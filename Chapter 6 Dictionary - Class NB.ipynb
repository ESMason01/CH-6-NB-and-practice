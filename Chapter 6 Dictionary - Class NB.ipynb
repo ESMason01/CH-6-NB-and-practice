{
 "cells": [
  {
   "cell_type": "markdown",
   "id": "73943399",
   "metadata": {},
   "source": [
    "# 6. Working with Dictionaries\n",
    "* A dictionary in Python is a collection of key-value pairs. \n",
    "* Each key is connected to a value, and you can use a key to access the value associated with that key.\n",
    "* A key’s value can be a number, a string, a list, or even another dictionary.\n",
    "\n",
    "* `Key` is the unique identifier to find data and the `value` is the data\n",
    "\n",
    "* A dictionary is a collection which is ordered*, changeable and does not allow duplicates.\n",
    "\n",
    "* Unlike strings, lists, and tuples, **dictionaries are not sequences** - the data are not stored in order. \n",
    "* List can be represented by [ ], Tuple can be represented by ( ), Dictionary  can be represented by { }"
   ]
  },
  {
   "cell_type": "code",
   "execution_count": 1,
   "id": "05999d3a",
   "metadata": {},
   "outputs": [
    {
     "data": {
      "text/plain": [
       "dict"
      ]
     },
     "execution_count": 1,
     "metadata": {},
     "output_type": "execute_result"
    }
   ],
   "source": [
    "data={}\n",
    "type(data)"
   ]
  },
  {
   "cell_type": "code",
   "execution_count": 2,
   "id": "88e3e9ba",
   "metadata": {},
   "outputs": [
    {
     "data": {
      "text/plain": [
       "dict"
      ]
     },
     "execution_count": 2,
     "metadata": {},
     "output_type": "execute_result"
    }
   ],
   "source": [
    "data1=dict()\n",
    "type(data1)"
   ]
  },
  {
   "cell_type": "code",
   "execution_count": 3,
   "id": "5d25b2cb",
   "metadata": {},
   "outputs": [],
   "source": [
    "data={'Alabama':'Montgomery',\n",
    "     'Arizona': 'Pheonix',\n",
    "     'Georgia':'Atlanta',\n",
    "     'Kentucky':'Frankfort',\n",
    "     'Ohio': 'Salem'}"
   ]
  },
  {
   "cell_type": "code",
   "execution_count": 4,
   "id": "c7c0ea53",
   "metadata": {},
   "outputs": [
    {
     "data": {
      "text/plain": [
       "dict"
      ]
     },
     "execution_count": 4,
     "metadata": {},
     "output_type": "execute_result"
    }
   ],
   "source": [
    "type(data)"
   ]
  },
  {
   "cell_type": "code",
   "execution_count": 5,
   "id": "55241535",
   "metadata": {},
   "outputs": [
    {
     "name": "stdout",
     "output_type": "stream",
     "text": [
      "{'Alabama': 'Montgomery', 'Arizona': 'Pheonix', 'Georgia': 'Atlanta', 'Kentucky': 'Frankfort', 'Ohio': 'Salem'}\n"
     ]
    }
   ],
   "source": [
    "print(data)"
   ]
  },
  {
   "cell_type": "markdown",
   "id": "4be8c616",
   "metadata": {},
   "source": [
    "### Access `values` from a dictionary using key\n",
    "* Key and values can be any data types\n",
    "* Accessing key value not present in dictionary generated KeyError"
   ]
  },
  {
   "cell_type": "code",
   "execution_count": 31,
   "id": "aab3f949",
   "metadata": {},
   "outputs": [],
   "source": [
    "data={'Alabama':'Montgomery',\n",
    "     'Arizona': 'Pheonix',\n",
    "     'Georgia':'Atlanta',\n",
    "     'Kentucky':'Frankfort',\n",
    "     'Ohio': 'Salem'}"
   ]
  },
  {
   "cell_type": "code",
   "execution_count": 7,
   "id": "fe9e3886",
   "metadata": {},
   "outputs": [
    {
     "data": {
      "text/plain": [
       "'Frankfort'"
      ]
     },
     "execution_count": 7,
     "metadata": {},
     "output_type": "execute_result"
    }
   ],
   "source": [
    "data['Kentucky']"
   ]
  },
  {
   "cell_type": "code",
   "execution_count": 8,
   "id": "e4eb565d",
   "metadata": {},
   "outputs": [
    {
     "data": {
      "text/plain": [
       "'Montgomery'"
      ]
     },
     "execution_count": 8,
     "metadata": {},
     "output_type": "execute_result"
    }
   ],
   "source": [
    "data['Alabama']"
   ]
  },
  {
   "cell_type": "code",
   "execution_count": 9,
   "id": "c7dae653",
   "metadata": {},
   "outputs": [
    {
     "ename": "KeyError",
     "evalue": "'Louisiana'",
     "output_type": "error",
     "traceback": [
      "\u001b[0;31m---------------------------------------------------------------------------\u001b[0m",
      "\u001b[0;31mKeyError\u001b[0m                                  Traceback (most recent call last)",
      "\u001b[0;32m/var/folders/f3/jzgq61956qj78fqdgxbgwj2r0000gn/T/ipykernel_56730/2583610805.py\u001b[0m in \u001b[0;36m<module>\u001b[0;34m\u001b[0m\n\u001b[0;32m----> 1\u001b[0;31m \u001b[0mdata\u001b[0m\u001b[0;34m[\u001b[0m\u001b[0;34m'Louisiana'\u001b[0m\u001b[0;34m]\u001b[0m\u001b[0;34m\u001b[0m\u001b[0;34m\u001b[0m\u001b[0m\n\u001b[0m",
      "\u001b[0;31mKeyError\u001b[0m: 'Louisiana'"
     ]
    }
   ],
   "source": [
    "data['Louisiana']"
   ]
  },
  {
   "cell_type": "markdown",
   "id": "bc6af6fc",
   "metadata": {},
   "source": [
    "### Update elements of a dictionary and add new elements"
   ]
  },
  {
   "cell_type": "code",
   "execution_count": 10,
   "id": "f62f227f",
   "metadata": {},
   "outputs": [],
   "source": [
    "day={1: 'Monday',\n",
    "    2: 'Tuesday',\n",
    "    4:['Thursday','Friday'],\n",
    "    5: ('Saturday', 'Sunday')}"
   ]
  },
  {
   "cell_type": "code",
   "execution_count": 11,
   "id": "560dd19f",
   "metadata": {},
   "outputs": [
    {
     "data": {
      "text/plain": [
       "'Monday'"
      ]
     },
     "execution_count": 11,
     "metadata": {},
     "output_type": "execute_result"
    }
   ],
   "source": [
    "day[1]"
   ]
  },
  {
   "cell_type": "code",
   "execution_count": 12,
   "id": "7f07b100",
   "metadata": {},
   "outputs": [
    {
     "data": {
      "text/plain": [
       "'Friday'"
      ]
     },
     "execution_count": 12,
     "metadata": {},
     "output_type": "execute_result"
    }
   ],
   "source": [
    "day[4][1]"
   ]
  },
  {
   "cell_type": "code",
   "execution_count": 13,
   "id": "e30ad316",
   "metadata": {},
   "outputs": [
    {
     "data": {
      "text/plain": [
       "'Saturday'"
      ]
     },
     "execution_count": 13,
     "metadata": {},
     "output_type": "execute_result"
    }
   ],
   "source": [
    "day[5][0]"
   ]
  },
  {
   "cell_type": "markdown",
   "id": "f7bb990f",
   "metadata": {},
   "source": [
    "### `get` and `update` methods"
   ]
  },
  {
   "cell_type": "code",
   "execution_count": 14,
   "id": "071c6f12",
   "metadata": {},
   "outputs": [
    {
     "ename": "TypeError",
     "evalue": "'tuple' object does not support item assignment",
     "output_type": "error",
     "traceback": [
      "\u001b[0;31m---------------------------------------------------------------------------\u001b[0m",
      "\u001b[0;31mTypeError\u001b[0m                                 Traceback (most recent call last)",
      "\u001b[0;32m/var/folders/f3/jzgq61956qj78fqdgxbgwj2r0000gn/T/ipykernel_56730/1586795505.py\u001b[0m in \u001b[0;36m<module>\u001b[0;34m\u001b[0m\n\u001b[0;32m----> 1\u001b[0;31m \u001b[0mday\u001b[0m\u001b[0;34m[\u001b[0m\u001b[0;36m5\u001b[0m\u001b[0;34m]\u001b[0m\u001b[0;34m[\u001b[0m\u001b[0;36m1\u001b[0m\u001b[0;34m]\u001b[0m\u001b[0;34m=\u001b[0m\u001b[0;34m'holiday'\u001b[0m \u001b[0;31m# cannot update tuple\u001b[0m\u001b[0;34m\u001b[0m\u001b[0;34m\u001b[0m\u001b[0m\n\u001b[0m",
      "\u001b[0;31mTypeError\u001b[0m: 'tuple' object does not support item assignment"
     ]
    }
   ],
   "source": [
    "day[5][1]='holiday' # cannot update tuple"
   ]
  },
  {
   "cell_type": "code",
   "execution_count": 15,
   "id": "10cd3add",
   "metadata": {},
   "outputs": [
    {
     "data": {
      "text/plain": [
       "{1: 'Monday',\n",
       " 2: 'Tuesday',\n",
       " 4: ['holiday', 'Friday'],\n",
       " 5: ('Saturday', 'Sunday')}"
      ]
     },
     "execution_count": 15,
     "metadata": {},
     "output_type": "execute_result"
    }
   ],
   "source": [
    "day[4][0]='holiday'\n",
    "day"
   ]
  },
  {
   "cell_type": "code",
   "execution_count": 16,
   "id": "afdf81cb",
   "metadata": {},
   "outputs": [
    {
     "data": {
      "text/plain": [
       "{1: 'holiday',\n",
       " 2: 'Tuesday',\n",
       " 4: ['holiday', 'Friday'],\n",
       " 5: ('Saturday', 'Sunday')}"
      ]
     },
     "execution_count": 16,
     "metadata": {},
     "output_type": "execute_result"
    }
   ],
   "source": [
    "day[1]='holiday'\n",
    "day"
   ]
  },
  {
   "cell_type": "markdown",
   "id": "05fc76e8",
   "metadata": {},
   "source": [
    "### `get` and `update` methods"
   ]
  },
  {
   "cell_type": "markdown",
   "id": "18536626",
   "metadata": {},
   "source": [
    "### Delete dictionary items using `del` and `pop`"
   ]
  },
  {
   "cell_type": "code",
   "execution_count": 32,
   "id": "ebc3b904",
   "metadata": {},
   "outputs": [
    {
     "data": {
      "text/plain": [
       "{'Alabama': 'Montgomery',\n",
       " 'Arizona': 'Pheonix',\n",
       " 'Georgia': 'Atlanta',\n",
       " 'Kentucky': 'Frankfort',\n",
       " 'Ohio': 'Salem'}"
      ]
     },
     "execution_count": 32,
     "metadata": {},
     "output_type": "execute_result"
    }
   ],
   "source": [
    "data"
   ]
  },
  {
   "cell_type": "code",
   "execution_count": 33,
   "id": "fc64b2ed",
   "metadata": {},
   "outputs": [
    {
     "data": {
      "text/plain": [
       "'Pheonix'"
      ]
     },
     "execution_count": 33,
     "metadata": {},
     "output_type": "execute_result"
    }
   ],
   "source": [
    "data.get('Arizona')"
   ]
  },
  {
   "cell_type": "code",
   "execution_count": 34,
   "id": "e3993e4c",
   "metadata": {},
   "outputs": [],
   "source": [
    "data.get('Louisiana')"
   ]
  },
  {
   "cell_type": "code",
   "execution_count": 35,
   "id": "509a8d32",
   "metadata": {},
   "outputs": [
    {
     "name": "stdout",
     "output_type": "stream",
     "text": [
      "{'Alabama': 'Montgomery', 'Arizona': 'Pheonix', 'Georgia': 'Atlanta', 'Kentucky': 'Frankfort', 'Ohio': 'Salem'}\n"
     ]
    }
   ],
   "source": [
    "print(data)\n",
    "data.update({'Kentucky':'Louisville', 'Louisiana' : 'Baton Rouge'})"
   ]
  },
  {
   "cell_type": "code",
   "execution_count": 36,
   "id": "128f2fb3",
   "metadata": {},
   "outputs": [
    {
     "name": "stdout",
     "output_type": "stream",
     "text": [
      "{'Alabama': 'Montgomery', 'Arizona': 'Pheonix', 'Georgia': 'Atlanta', 'Kentucky': 'Louisville', 'Ohio': 'Salem', 'Louisiana': 'Baton Rouge'}\n"
     ]
    }
   ],
   "source": [
    "print(data)"
   ]
  },
  {
   "cell_type": "code",
   "execution_count": 37,
   "id": "128a36cd",
   "metadata": {},
   "outputs": [
    {
     "name": "stdout",
     "output_type": "stream",
     "text": [
      "{'Alabama': 'Montgomery', 'Arizona': 'Pheonix', 'Georgia': 'Atlanta', 'Kentucky': 'Louisville', 'Ohio': 'Salem', 'Louisiana': 'Baton Rouge', 'alabama': 'Montgomery'}\n"
     ]
    }
   ],
   "source": [
    "data.update({'alabama':'Montgomery'}) # only way to update key\n",
    "print(data)"
   ]
  },
  {
   "cell_type": "markdown",
   "id": "a1f0f270",
   "metadata": {},
   "source": [
    "#### Delete dictionary items using `del` and `pop`"
   ]
  },
  {
   "cell_type": "code",
   "execution_count": 38,
   "id": "7976ee99",
   "metadata": {},
   "outputs": [],
   "source": [
    "data\n",
    "del data['Alabama']"
   ]
  },
  {
   "cell_type": "code",
   "execution_count": 39,
   "id": "7fe7332c",
   "metadata": {
    "scrolled": true
   },
   "outputs": [
    {
     "data": {
      "text/plain": [
       "{'Arizona': 'Pheonix',\n",
       " 'Georgia': 'Atlanta',\n",
       " 'Kentucky': 'Louisville',\n",
       " 'Ohio': 'Salem',\n",
       " 'Louisiana': 'Baton Rouge',\n",
       " 'alabama': 'Montgomery'}"
      ]
     },
     "execution_count": 39,
     "metadata": {},
     "output_type": "execute_result"
    }
   ],
   "source": [
    "data"
   ]
  },
  {
   "cell_type": "code",
   "execution_count": 40,
   "id": "b94d9e28",
   "metadata": {
    "scrolled": false
   },
   "outputs": [
    {
     "data": {
      "text/plain": [
       "{'Arizona': 'Pheonix',\n",
       " 'Georgia': 'Atlanta',\n",
       " 'Kentucky': 'Louisville',\n",
       " 'Louisiana': 'Baton Rouge',\n",
       " 'alabama': 'Montgomery'}"
      ]
     },
     "execution_count": 40,
     "metadata": {},
     "output_type": "execute_result"
    }
   ],
   "source": [
    "del data['Ohio']\n",
    "data"
   ]
  },
  {
   "cell_type": "code",
   "execution_count": 41,
   "id": "e2f7a089",
   "metadata": {
    "scrolled": true
   },
   "outputs": [
    {
     "name": "stdout",
     "output_type": "stream",
     "text": [
      "Deleted state Pheonix\n"
     ]
    }
   ],
   "source": [
    "deleted_state=data.pop('Arizona')\n",
    "print(\"Deleted state\", deleted_state)"
   ]
  },
  {
   "cell_type": "code",
   "execution_count": 42,
   "id": "9cfe900c",
   "metadata": {
    "scrolled": true
   },
   "outputs": [
    {
     "data": {
      "text/plain": [
       "{'Georgia': 'Atlanta',\n",
       " 'Kentucky': 'Louisville',\n",
       " 'Louisiana': 'Baton Rouge',\n",
       " 'alabama': 'Montgomery'}"
      ]
     },
     "execution_count": 42,
     "metadata": {},
     "output_type": "execute_result"
    }
   ],
   "source": [
    "data"
   ]
  },
  {
   "cell_type": "code",
   "execution_count": 43,
   "id": "7502df59",
   "metadata": {},
   "outputs": [
    {
     "name": "stdout",
     "output_type": "stream",
     "text": [
      "Montgomery\n",
      "{'Georgia': 'Atlanta', 'Kentucky': 'Louisville', 'Louisiana': 'Baton Rouge'}\n"
     ]
    }
   ],
   "source": [
    "# Delete Montgomery\n",
    "deleted_capitol=data.pop('alabama')\n",
    "print(deleted_capitol)\n",
    "print(data)"
   ]
  },
  {
   "cell_type": "code",
   "execution_count": 44,
   "id": "67a059cf",
   "metadata": {},
   "outputs": [],
   "source": [
    "del data"
   ]
  },
  {
   "cell_type": "code",
   "execution_count": 45,
   "id": "8743410f",
   "metadata": {},
   "outputs": [
    {
     "ename": "NameError",
     "evalue": "name 'data' is not defined",
     "output_type": "error",
     "traceback": [
      "\u001b[0;31m---------------------------------------------------------------------------\u001b[0m",
      "\u001b[0;31mNameError\u001b[0m                                 Traceback (most recent call last)",
      "\u001b[0;32m/var/folders/f3/jzgq61956qj78fqdgxbgwj2r0000gn/T/ipykernel_56730/391604064.py\u001b[0m in \u001b[0;36m<module>\u001b[0;34m\u001b[0m\n\u001b[0;32m----> 1\u001b[0;31m \u001b[0mdata\u001b[0m\u001b[0;34m\u001b[0m\u001b[0;34m\u001b[0m\u001b[0m\n\u001b[0m",
      "\u001b[0;31mNameError\u001b[0m: name 'data' is not defined"
     ]
    }
   ],
   "source": [
    "data"
   ]
  },
  {
   "cell_type": "markdown",
   "id": "610aae76",
   "metadata": {},
   "source": [
    "### Number of elements in the dictionary and extracting `keys()`, `values()`, `items()`"
   ]
  },
  {
   "cell_type": "code",
   "execution_count": 46,
   "id": "f13bd3ba",
   "metadata": {},
   "outputs": [],
   "source": [
    "data={'Alabama':'Montgomery',\n",
    "     'Arizona': 'Pheonix',\n",
    "     'Georgia':'Atlanta',\n",
    "     'Kentucky':'Frankfort',\n",
    "     'Ohio': 'Salem'} #key:value"
   ]
  },
  {
   "cell_type": "code",
   "execution_count": 47,
   "id": "1d31365f",
   "metadata": {},
   "outputs": [
    {
     "data": {
      "text/plain": [
       "5"
      ]
     },
     "execution_count": 47,
     "metadata": {},
     "output_type": "execute_result"
    }
   ],
   "source": [
    "len (data)"
   ]
  },
  {
   "cell_type": "code",
   "execution_count": 48,
   "id": "0db183c4",
   "metadata": {},
   "outputs": [
    {
     "name": "stdout",
     "output_type": "stream",
     "text": [
      "dict_keys(['Alabama', 'Arizona', 'Georgia', 'Kentucky', 'Ohio'])\n"
     ]
    }
   ],
   "source": [
    "print(data.keys())"
   ]
  },
  {
   "cell_type": "code",
   "execution_count": 50,
   "id": "a1c19204",
   "metadata": {
    "scrolled": true
   },
   "outputs": [
    {
     "name": "stdout",
     "output_type": "stream",
     "text": [
      "dict_values(['Montgomery', 'Pheonix', 'Atlanta', 'Frankfort', 'Salem'])\n"
     ]
    }
   ],
   "source": [
    "print(data.values())"
   ]
  },
  {
   "cell_type": "code",
   "execution_count": 52,
   "id": "28a771e7",
   "metadata": {},
   "outputs": [
    {
     "name": "stdout",
     "output_type": "stream",
     "text": [
      "dict_items([('Alabama', 'Montgomery'), ('Arizona', 'Pheonix'), ('Georgia', 'Atlanta'), ('Kentucky', 'Frankfort'), ('Ohio', 'Salem')])\n"
     ]
    },
    {
     "data": {
      "text/plain": [
       "dict_items"
      ]
     },
     "execution_count": 52,
     "metadata": {},
     "output_type": "execute_result"
    }
   ],
   "source": [
    "print(data.items())\n",
    "type(data.items())\n",
    "#item / key pair"
   ]
  },
  {
   "cell_type": "code",
   "execution_count": null,
   "id": "1894778c",
   "metadata": {},
   "outputs": [],
   "source": []
  },
  {
   "cell_type": "markdown",
   "id": "ab9e78f2",
   "metadata": {},
   "source": [
    "### Loop through a dictionary"
   ]
  },
  {
   "cell_type": "code",
   "execution_count": 53,
   "id": "941bf04e",
   "metadata": {},
   "outputs": [
    {
     "data": {
      "text/plain": [
       "{'Alabama': 'Montgomery',\n",
       " 'Arizona': 'Pheonix',\n",
       " 'Georgia': 'Atlanta',\n",
       " 'Kentucky': 'Frankfort',\n",
       " 'Ohio': 'Salem'}"
      ]
     },
     "execution_count": 53,
     "metadata": {},
     "output_type": "execute_result"
    }
   ],
   "source": [
    "data"
   ]
  },
  {
   "cell_type": "code",
   "execution_count": 54,
   "id": "fe239e39",
   "metadata": {},
   "outputs": [
    {
     "name": "stdout",
     "output_type": "stream",
     "text": [
      "Alabama\n",
      "<class 'str'>\n",
      "Arizona\n",
      "<class 'str'>\n",
      "Georgia\n",
      "<class 'str'>\n",
      "Kentucky\n",
      "<class 'str'>\n",
      "Ohio\n",
      "<class 'str'>\n"
     ]
    }
   ],
   "source": [
    "for i in data.keys():\n",
    "    print(i)\n",
    "    print(type(i))"
   ]
  },
  {
   "cell_type": "code",
   "execution_count": 56,
   "id": "c0746d46",
   "metadata": {},
   "outputs": [
    {
     "name": "stdout",
     "output_type": "stream",
     "text": [
      "the capitiol is:  Montgomery\n",
      "the capitiol is:  Pheonix\n",
      "the capitiol is:  Atlanta\n",
      "the capitiol is:  Frankfort\n",
      "the capitiol is:  Salem\n"
     ]
    }
   ],
   "source": [
    "for j in data.values():\n",
    "    print(\"the capitiol is: \",j)"
   ]
  },
  {
   "cell_type": "code",
   "execution_count": 57,
   "id": "e07995b1",
   "metadata": {},
   "outputs": [
    {
     "name": "stdout",
     "output_type": "stream",
     "text": [
      "('Alabama', 'Montgomery')\n",
      "<class 'tuple'>\n",
      "('Arizona', 'Pheonix')\n",
      "<class 'tuple'>\n",
      "('Georgia', 'Atlanta')\n",
      "<class 'tuple'>\n",
      "('Kentucky', 'Frankfort')\n",
      "<class 'tuple'>\n",
      "('Ohio', 'Salem')\n",
      "<class 'tuple'>\n"
     ]
    }
   ],
   "source": [
    "for k in data.items():\n",
    "    print(k)\n",
    "    print(type(k))"
   ]
  },
  {
   "cell_type": "code",
   "execution_count": 58,
   "id": "c781dbd0",
   "metadata": {},
   "outputs": [
    {
     "name": "stdout",
     "output_type": "stream",
     "text": [
      "State:  Alabama Capitol:  Montgomery\n",
      "<class 'str'> <class 'str'>\n",
      "State:  Arizona Capitol:  Pheonix\n",
      "<class 'str'> <class 'str'>\n",
      "State:  Georgia Capitol:  Atlanta\n",
      "<class 'str'> <class 'str'>\n",
      "State:  Kentucky Capitol:  Frankfort\n",
      "<class 'str'> <class 'str'>\n",
      "State:  Ohio Capitol:  Salem\n",
      "<class 'str'> <class 'str'>\n"
     ]
    }
   ],
   "source": [
    "for i, j in data.items():\n",
    "    print(\"State: \",i, \"Capitol: \", j)\n",
    "    print(type(i), type(j))"
   ]
  },
  {
   "cell_type": "markdown",
   "id": "82ec7aff",
   "metadata": {},
   "source": [
    "### Convert dictionary to lists using `list()` function"
   ]
  },
  {
   "cell_type": "code",
   "execution_count": 59,
   "id": "afcede6e",
   "metadata": {},
   "outputs": [
    {
     "data": {
      "text/plain": [
       "{'Alabama': 'Montgomery',\n",
       " 'Arizona': 'Pheonix',\n",
       " 'Georgia': 'Atlanta',\n",
       " 'Kentucky': 'Frankfort',\n",
       " 'Ohio': 'Salem'}"
      ]
     },
     "execution_count": 59,
     "metadata": {},
     "output_type": "execute_result"
    }
   ],
   "source": [
    "data"
   ]
  },
  {
   "cell_type": "code",
   "execution_count": 62,
   "id": "b85f9771",
   "metadata": {},
   "outputs": [
    {
     "data": {
      "text/plain": [
       "['Montgomery', 'Pheonix', 'Atlanta', 'Frankfort', 'Salem']"
      ]
     },
     "execution_count": 62,
     "metadata": {},
     "output_type": "execute_result"
    }
   ],
   "source": [
    "list(data.values())"
   ]
  },
  {
   "cell_type": "code",
   "execution_count": 63,
   "id": "1513a1e3",
   "metadata": {},
   "outputs": [
    {
     "data": {
      "text/plain": [
       "('Alabama', 'Arizona', 'Georgia', 'Kentucky', 'Ohio')"
      ]
     },
     "execution_count": 63,
     "metadata": {},
     "output_type": "execute_result"
    }
   ],
   "source": [
    "tuple(data.keys())"
   ]
  },
  {
   "cell_type": "code",
   "execution_count": null,
   "id": "59ec3714",
   "metadata": {},
   "outputs": [],
   "source": []
  },
  {
   "cell_type": "markdown",
   "id": "d13131c6",
   "metadata": {},
   "source": [
    "### A List in a Dictionary"
   ]
  },
  {
   "cell_type": "code",
   "execution_count": 68,
   "id": "cd81cd95",
   "metadata": {},
   "outputs": [],
   "source": [
    "favorite_language={\n",
    "    'Jen': ['Python', 'ruby'],\n",
    "    'sarah':['C'],\n",
    "    'edward':['ruby','Java'],\n",
    "    'Phil':['Python','Haskell']   \n",
    "}\n",
    " "
   ]
  },
  {
   "cell_type": "code",
   "execution_count": 70,
   "id": "1d594da7",
   "metadata": {},
   "outputs": [
    {
     "name": "stdout",
     "output_type": "stream",
     "text": [
      "\n",
      "Jen's favourite languages are: \n",
      "\t\t\tPython\n",
      "\t\t\tRuby\n",
      "\n",
      "Sarah's favourite languages are: \n",
      "\t\t\tC\n",
      "\n",
      "Edward's favourite languages are: \n",
      "\t\t\tRuby\n",
      "\t\t\tJava\n",
      "\n",
      "Phil's favourite languages are: \n",
      "\t\t\tPython\n",
      "\t\t\tHaskell\n"
     ]
    }
   ],
   "source": [
    "for name, languages in favorite_language.items():\n",
    "    print(\"\\n\"+name.title()+\"\\'s favourite languages are: \")\n",
    "    #print(languages)\n",
    "    for i in languages:\n",
    "        print(\"\\t\\t\\t\"+i.title())"
   ]
  },
  {
   "cell_type": "code",
   "execution_count": null,
   "id": "e9a96ec4",
   "metadata": {},
   "outputs": [],
   "source": []
  },
  {
   "cell_type": "code",
   "execution_count": null,
   "id": "9796242d",
   "metadata": {},
   "outputs": [],
   "source": []
  },
  {
   "cell_type": "markdown",
   "id": "7543bcaf",
   "metadata": {},
   "source": [
    "###  A Dictionary in a Dictionary"
   ]
  },
  {
   "cell_type": "code",
   "execution_count": 71,
   "id": "5716262d",
   "metadata": {},
   "outputs": [],
   "source": [
    "user={\n",
    "    \"einstien\" :{\n",
    "        \"first\": \"albert\",\n",
    "        \"last\": \"eistien\",\n",
    "        \"location\": \"prinston\"\n",
    "    },\n",
    "    \"curie\":{\n",
    "        \"first\": \"marie\",\n",
    "        \"last\": \"curie\",\n",
    "        \"location\": \"paris\"\n",
    "    }\n",
    "}"
   ]
  },
  {
   "cell_type": "code",
   "execution_count": 72,
   "id": "ea32e32c",
   "metadata": {},
   "outputs": [
    {
     "data": {
      "text/plain": [
       "{'einstien': {'first': 'albert', 'last': 'eistien', 'location': 'prinston'},\n",
       " 'curie': {'first': 'marie', 'last': 'curie', 'location': 'paris'}}"
      ]
     },
     "execution_count": 72,
     "metadata": {},
     "output_type": "execute_result"
    }
   ],
   "source": [
    "user"
   ]
  },
  {
   "cell_type": "code",
   "execution_count": 75,
   "id": "7aaca1c4",
   "metadata": {},
   "outputs": [
    {
     "name": "stdout",
     "output_type": "stream",
     "text": [
      "\n",
      "User Name:  einstien\n",
      "The full name is: Albert Eistien\n",
      "The location:  Prinston\n",
      "\n",
      "User Name:  curie\n",
      "The full name is: Marie Curie\n",
      "The location:  Paris\n"
     ]
    }
   ],
   "source": [
    "for user_name,user_info in user.items():\n",
    "    print(\"\\nUser Name: \", user_name)\n",
    "    fullname=user_info['first']+\" \"+user_info['last']\n",
    "    location=user_info['location']\n",
    "    \n",
    "    print(\"The full name is: \"+ fullname.title())\n",
    "    print(\"The location: \",location.title())"
   ]
  },
  {
   "cell_type": "code",
   "execution_count": null,
   "id": "568913fc",
   "metadata": {},
   "outputs": [],
   "source": []
  }
 ],
 "metadata": {
  "kernelspec": {
   "display_name": "Python 3 (ipykernel)",
   "language": "python",
   "name": "python3"
  },
  "language_info": {
   "codemirror_mode": {
    "name": "ipython",
    "version": 3
   },
   "file_extension": ".py",
   "mimetype": "text/x-python",
   "name": "python",
   "nbconvert_exporter": "python",
   "pygments_lexer": "ipython3",
   "version": "3.9.13"
  }
 },
 "nbformat": 4,
 "nbformat_minor": 5
}
